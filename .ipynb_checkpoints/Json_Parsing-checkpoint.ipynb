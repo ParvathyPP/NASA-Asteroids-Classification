{
 "cells": [
  {
   "cell_type": "code",
   "execution_count": null,
   "metadata": {
    "scrolled": true
   },
   "outputs": [
    {
     "name": "stderr",
     "output_type": "stream",
     "text": [
      "C:\\Users\\USER\\Anaconda3\\lib\\site-packages\\pandas\\compat\\_optional.py:138: UserWarning: Pandas requires version '2.7.0' or newer of 'numexpr' (version '2.6.8' currently installed).\n",
      "  warnings.warn(msg, UserWarning)\n"
     ]
    }
   ],
   "source": [
    "import json\n",
    "import pandas as pd\n",
    "import os\n",
    "import re\n",
    "path = 'C:/Users/USER/DA_Projects/NASA Asteroids Classification/raw_dataset/Raw_Data_JSON/Raw_Data'\n",
    "df = []\n",
    "tot_elem_count=0;\n",
    "files = os.listdir(path)\n",
    "for file in files:\n",
    "    date = file.split('e')[1].split('.')[0]\n",
    "    tot_path = path+'/'+file  \n",
    "    with open(tot_path, 'r') as f:\n",
    "        d = json.loads(f.read())\n",
    "    elem_count = d['element_count']\n",
    "    tot_elem_count += elem_count\n",
    "    if elem_count > 0:\n",
    "        newd = d['near_earth_objects'][date];\n",
    "        for i in newd:\n",
    "            i['close_approach_data'] = i['close_approach_data'][0]\n",
    "        df = df + newd;\n",
    "data = pd.json_normalize(df)\n",
    "train = pd.DataFrame.from_dict(data, orient='columns')\n",
    "train"
   ]
  },
  {
   "cell_type": "code",
   "execution_count": null,
   "metadata": {},
   "outputs": [],
   "source": [
    "train.to_csv('C:/Users/USER/DA_Projects/NASA Asteroids Classification/Asteroids.csv', index = False)"
   ]
  },
  {
   "cell_type": "code",
   "execution_count": null,
   "metadata": {},
   "outputs": [],
   "source": []
  }
 ],
 "metadata": {
  "kernelspec": {
   "display_name": "Python 3",
   "language": "python",
   "name": "python3"
  }
 },
 "nbformat": 4,
 "nbformat_minor": 2
}
